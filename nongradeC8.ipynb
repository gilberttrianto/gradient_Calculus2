{
 "cells": [
  {
   "attachments": {},
   "cell_type": "markdown",
   "metadata": {},
   "source": [
    "1. Carilah Gradient dari sebuah fungsi berikut:\n",
    "3𝑥+4𝑦=5\n"
   ]
  },
  {
   "cell_type": "code",
   "execution_count": 1,
   "metadata": {},
   "outputs": [],
   "source": [
    "import sympy as sy"
   ]
  },
  {
   "cell_type": "code",
   "execution_count": 2,
   "metadata": {},
   "outputs": [
    {
     "name": "stdout",
     "output_type": "stream",
     "text": [
      "Gradien:\n",
      "d(f)/dx = 3\n",
      "d(f)/dy = 4\n"
     ]
    }
   ],
   "source": [
    "from sympy import symbols, diff\n",
    "\n",
    "# Definisikan variabel\n",
    "x, y = symbols('x y')\n",
    "\n",
    "# Definisikan fungsi\n",
    "f = 3*x + 4*y - 5\n",
    "\n",
    "# Hitung gradien\n",
    "gradient = [diff(f, x), diff(f, y)]\n",
    "\n",
    "# Cetak hasil\n",
    "print(\"Gradien:\")\n",
    "print(\"d(f)/dx =\", gradient[0])\n",
    "print(\"d(f)/dy =\", gradient[1])\n"
   ]
  }
 ],
 "metadata": {
  "kernelspec": {
   "display_name": "Python 3",
   "language": "python",
   "name": "python3"
  },
  "language_info": {
   "codemirror_mode": {
    "name": "ipython",
    "version": 3
   },
   "file_extension": ".py",
   "mimetype": "text/x-python",
   "name": "python",
   "nbconvert_exporter": "python",
   "pygments_lexer": "ipython3",
   "version": "3.8.16"
  },
  "orig_nbformat": 4
 },
 "nbformat": 4,
 "nbformat_minor": 2
}
